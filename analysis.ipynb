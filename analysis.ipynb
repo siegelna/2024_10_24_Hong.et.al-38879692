{
 "cells": [
  {
   "cell_type": "code",
   "execution_count": null,
   "metadata": {
    "vscode": {
     "languageId": "r"
    }
   },
   "outputs": [],
   "source": [
    "suppressPackageStartupMessages({\n",
    "    library(Seurat)\n",
    "    library(celldex)\n",
    "    library(ShinyCell)\n",
    "    library(dplyr)\n",
    "    library(SingleR)\n",
    "    library(dplyr)\n",
    "})"
   ]
  },
  {
   "cell_type": "code",
   "execution_count": null,
   "metadata": {
    "vscode": {
     "languageId": "r"
    }
   },
   "outputs": [],
   "source": [
    "# Download data and create seurat objects\n",
    "source(\"scTools/R/process.geo.data.r\")\n",
    "obj <- process.GEO.data(GEOID = \"GSE264408\")"
   ]
  },
  {
   "cell_type": "code",
   "execution_count": 1,
   "metadata": {
    "vscode": {
     "languageId": "r"
    }
   },
   "outputs": [],
   "source": [
    "obj <- get(load(\"objects/GSE264408.rda\"))\n",
    "obj"
   ]
  },
  {
   "cell_type": "code",
   "execution_count": null,
   "metadata": {
    "vscode": {
     "languageId": "r"
    }
   },
   "outputs": [],
   "source": [
    "# Merge data\n",
    "merge_obj <- merge(x = obj[[1]],  y = c(obj[[2]], obj[[3]], obj[[4]], obj[[5]], obj[[6]], obj[[7]], obj[[8]], obj[[9]], obj[[10]]))"
   ]
  },
  {
   "cell_type": "code",
   "execution_count": null,
   "metadata": {
    "vscode": {
     "languageId": "r"
    }
   },
   "outputs": [],
   "source": [
    "obj <- JoinLayers(merge_obj)"
   ]
  },
  {
   "cell_type": "code",
   "execution_count": null,
   "metadata": {
    "vscode": {
     "languageId": "r"
    }
   },
   "outputs": [],
   "source": [
    "# Update metadata\n",
    "obj@meta.data$Sample <- obj@meta.data$title\n",
    "obj@meta.data$Treatment <- obj@meta.data$treatment.ch1\n",
    "obj@meta.data$Disease <- obj@meta.data$disease.state.ch1\n",
    "\n",
    "columns_to_keep <-  c('orig.ident', 'nCount_RNA', 'nFeature_RNA', 'Sample', 'Treatment', 'Disease')\n",
    "obj@meta.data <- obj@meta.data[, columns_to_keep, drop = FALSE]"
   ]
  },
  {
   "cell_type": "code",
   "execution_count": null,
   "metadata": {
    "vscode": {
     "languageId": "r"
    }
   },
   "outputs": [],
   "source": [
    "# Normalize, cluster, and visualize\n",
    "options(future.globals.maxSize = 6000 * 1024^3)\n",
    "obj <- SCTransform(obj, ncells = 3000,  variable.features.n = 2000, vst.flavor=\"v2\", method = 'glmGamPoi', conserve.memory = FALSE)%>%\n",
    "    RunPCA(npcs = 30, verbose = TRUE)%>%\n",
    "    RunUMAP(reduction = \"pca\", dims = 1:20)%>%\n",
    "    FindNeighbors(reduction = \"pca\", dims = 1:20)%>%\n",
    "    FindClusters(resolution = 0.5)\n",
    "save(obj, file = \"objects/01.rda\")"
   ]
  },
  {
   "cell_type": "code",
   "execution_count": null,
   "metadata": {
    "vscode": {
     "languageId": "r"
    }
   },
   "outputs": [],
   "source": [
    "# Load annotation\n",
    "monaco.ref <- celldex::MonacoImmuneData()\n",
    "blueprint.ref <- celldex::BlueprintEncodeData()\n",
    "\n",
    "# Blueprint annnotation\n",
    "sce <- LayerData(obj)\n",
    "blueprint.main <- SingleR(test = sce, assay.type.test = 1, ref = blueprint.ref, labels = blueprint.ref$label.main)\n",
    "obj@meta.data$blueprint.main <- blueprint.main$pruned.labels\n",
    "\n",
    "# Monaco annontation\n",
    "sce <- LayerData(obj)\n",
    "monaco.fine <- SingleR(test = sce, assay.type.test = 1, ref = monaco.ref, labels = monaco.ref$label.fine)\n",
    "obj@meta.data$monaco.fine <- monaco.fine$pruned.labels"
   ]
  },
  {
   "cell_type": "code",
   "execution_count": null,
   "metadata": {
    "vscode": {
     "languageId": "r"
    }
   },
   "outputs": [],
   "source": [
    "seu =  obj\n",
    "scConf = createConfig(seu)\n",
    "makeShinyApp(seu, scConf,\n",
    "             gene.mapping = TRUE,\n",
    "             shiny.title = \"Colitis mouse colon scRNAseq (GSE264408)\",\n",
    "             shiny.dir = \"colitis_scRNAseq_GSE264408/\",\n",
    "             gex.assay = \"RNA\",\n",
    "             default.multigene = c('LILRB1', 'PDCD1')) \n",
    "system(\"R -e \\\"shiny::runApp('asthma_scRNAseq_GSE181710')\\\"\")"
   ]
  }
 ],
 "metadata": {
  "kernelspec": {
   "display_name": "R",
   "language": "R",
   "name": "ir"
  },
  "language_info": {
   "codemirror_mode": "r",
   "file_extension": ".r",
   "mimetype": "text/x-r-source",
   "name": "R",
   "pygments_lexer": "r",
   "version": "4.3.3"
  }
 },
 "nbformat": 4,
 "nbformat_minor": 2
}
